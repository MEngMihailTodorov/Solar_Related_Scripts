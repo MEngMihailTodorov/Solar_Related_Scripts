{
 "cells": [
  {
   "cell_type": "code",
   "execution_count": 1,
   "id": "9517f24e",
   "metadata": {},
   "outputs": [
    {
     "data": {
      "text/html": [
       "<style>.container { width:90% !important; }</style>"
      ],
      "text/plain": [
       "<IPython.core.display.HTML object>"
      ]
     },
     "metadata": {},
     "output_type": "display_data"
    }
   ],
   "source": [
    "from IPython.display import display, HTML\n",
    "display(HTML(\"<style>.container { width:90% !important; }</style>\"))\n",
    "\n",
    "import math\n",
    "import numpy as np\n",
    "import plotly as pl\n",
    "import plotly.graph_objects as go\n",
    "import seaborn\n",
    "import pandas\n",
    "import matplotlib.pyplot as plt"
   ]
  },
  {
   "cell_type": "code",
   "execution_count": 2,
   "id": "183fc8ab",
   "metadata": {},
   "outputs": [
    {
     "ename": "KeyboardInterrupt",
     "evalue": "",
     "output_type": "error",
     "traceback": [
      "\u001b[1;31m---------------------------------------------------------------------------\u001b[0m",
      "\u001b[1;31mKeyboardInterrupt\u001b[0m                         Traceback (most recent call last)",
      "Cell \u001b[1;32mIn[2], line 17\u001b[0m\n\u001b[0;32m     15\u001b[0m \u001b[38;5;28;01mwhile\u001b[39;00m \u001b[38;5;28;01mTrue\u001b[39;00m:\n\u001b[0;32m     16\u001b[0m     random_click()\n\u001b[1;32m---> 17\u001b[0m     \u001b[43mtime\u001b[49m\u001b[38;5;241;43m.\u001b[39;49m\u001b[43msleep\u001b[49m\u001b[43m(\u001b[49m\u001b[38;5;241;43m15\u001b[39;49m\u001b[43m)\u001b[49m  \u001b[38;5;66;03m# Pause execution for 15 seconds\u001b[39;00m\n",
      "\u001b[1;31mKeyboardInterrupt\u001b[0m: "
     ]
    }
   ],
   "source": [
    "import pyautogui\n",
    "import time\n",
    "import random\n",
    "\n",
    "def random_click():\n",
    "    screen_width, screen_height = pyautogui.size()  # Get the size of the primary monitor.\n",
    "    \n",
    "    random_x = random.randint(0, screen_width)\n",
    "    random_y = random.randint(0, screen_height)\n",
    "    \n",
    "    pyautogui.moveTo(random_x, random_y, duration=1)  # Move the mouse to the random coordinates over 1 second.\n",
    "    pyautogui.click()  # Perform a mouse click.\n",
    "\n",
    "if __name__ == \"__main__\":\n",
    "    while True:\n",
    "        random_click()\n",
    "        time.sleep(15)  # Pause execution for 15 seconds"
   ]
  },
  {
   "cell_type": "code",
   "execution_count": null,
   "id": "4e69b8c1",
   "metadata": {},
   "outputs": [],
   "source": [
    "class Vehicle:\n",
    "    def __init__(self, width, length, min_turning_radius):\n",
    "        self.width = width\n",
    "        self.length = length\n",
    "        self.min_turning_radius = min_turning_radius\n",
    "\n",
    "\n",
    "class RoadSegment:\n",
    "    def __init__(self, start_point, end_point, curvature):\n",
    "        self.start_point = start_point\n",
    "        self.end_point = end_point\n",
    "        self.curvature = curvature  # could be in radius or degree of curvature\n",
    "        \n",
    "\n",
    "class SweptPathAnalysis:\n",
    "    def __init__(self, road_segments, vehicle):\n",
    "        self.road_segments = road_segments  # list of RoadSegment objects\n",
    "        self.vehicle = vehicle  # Vehicle object\n",
    "        \n",
    "        self.sweep_paths = []  # list to store calculated sweep paths\n",
    "        \n",
    "    def calculate_turning_radius(self, segment):\n",
    "        # Implement the method to calculate turning radius\n",
    "        pass\n",
    "    \n",
    "    def check_turning_radius(self):\n",
    "        for segment in self.road_segments:\n",
    "            turning_radius = self.calculate_turning_radius(segment)\n",
    "            if turning_radius < self.vehicle.min_turning_radius:\n",
    "                return False, turning_radius\n",
    "        return True, None\n",
    "    \n",
    "    def calculate_sweep_path(self):\n",
    "        # Implement sweep path calculation for each road segment\n",
    "        pass\n",
    "    \n",
    "    def evaluate_sweep_path(self):\n",
    "        # Implement method to evaluate if sweep path meets design criteria\n",
    "        pass\n",
    "    \n",
    "    def run_analysis(self):\n",
    "        self.calculate_sweep_path()\n",
    "        is_feasible, min_turning_radius = self.check_turning_radius()\n",
    "        \n",
    "        if is_feasible:\n",
    "            print(\"The design is feasible.\")\n",
    "            self.evaluate_sweep_path()\n",
    "        else:\n",
    "            print(f\"The design is not feasible. Minimum turning radius required is {min_turning_radius}\")\n",
    "    \n",
    "\n",
    "if __name__ == \"__main__\":\n",
    "    # Initialize vehicle with width=2m, length=4m, and min_turning_radius=6m\n",
    "    my_vehicle = Vehicle(2, 4, 6)\n",
    "    \n",
    "    # Initialize road segments (Assume points are in (x, y))\n",
    "    segment1 = RoadSegment((0, 0), (10, 0), 0)\n",
    "    segment2 = RoadSegment((10, 0), (15, 5), 20)\n",
    "    \n",
    "    # Create a list of road segments\n",
    "    road_segments = [segment1, segment2]\n",
    "    \n",
    "    # Initialize the SweepPathAnalysis\n",
    "    analysis = SweepPathAnalysis(road_segments, my_vehicle)\n",
    "    \n",
    "    # Run the analysis\n",
    "    analysis.run_analysis()\n"
   ]
  }
 ],
 "metadata": {
  "kernelspec": {
   "display_name": "Python 3 (ipykernel)",
   "language": "python",
   "name": "python3"
  },
  "language_info": {
   "codemirror_mode": {
    "name": "ipython",
    "version": 3
   },
   "file_extension": ".py",
   "mimetype": "text/x-python",
   "name": "python",
   "nbconvert_exporter": "python",
   "pygments_lexer": "ipython3",
   "version": "3.11.4"
  }
 },
 "nbformat": 4,
 "nbformat_minor": 5
}
