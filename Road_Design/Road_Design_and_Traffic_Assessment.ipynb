{
 "cells": [
  {
   "cell_type": "code",
   "execution_count": 1,
   "id": "ace1a8f4",
   "metadata": {},
   "outputs": [
    {
     "data": {
      "text/html": [
       "<style>.container { width:90% !important; }</style>"
      ],
      "text/plain": [
       "<IPython.core.display.HTML object>"
      ]
     },
     "metadata": {},
     "output_type": "display_data"
    }
   ],
   "source": [
    "from IPython.display import display, HTML\n",
    "display(HTML(\"<style>.container { width:90% !important; }</style>\"))\n",
    "\n",
    "import math\n",
    "import numpy as np\n",
    "import plotly as pl\n",
    "import plotly.graph_objects as go\n",
    "import seaborn\n",
    "import pandas\n",
    "import matplotlib.pyplot as plt\n",
    "import sys\n",
    "import os"
   ]
  },
  {
   "cell_type": "code",
   "execution_count": 16,
   "id": "b28dd0be",
   "metadata": {},
   "outputs": [
    {
     "name": "stdout",
     "output_type": "stream",
     "text": [
      "TRAFFIC ASSESSMENT RESULTS\n",
      "--------------------------------------------------------------------------------------------------------------\n",
      "\n",
      "--------------------------------------------------------------------------------------------------------------\n",
      "Loads and Design Parameters\n",
      "--------------------------------------------------------------------------------------------------------------\n",
      "Commercial Vehicle Flow (F):                                                     10 vehicles/day\n",
      "Design Period (Y):                                                                 25 years\n",
      "Growth Factor (G):                                                                     1.30\n",
      "Wear Factor (W):                                                                       4.90\n",
      "Percentage of Vehicles in Heaviest Lane (P):                                         99.96%\n",
      "\n",
      "--------------------------------------------------------------------------------------------------------------\n",
      "Results\n",
      "--------------------------------------------------------------------------------------------------------------\n",
      "\n",
      "Weighted Annual Traffic (T_c):                                                   0.02 msa [million standard axles]\n",
      "Design Traffic Load (T):                                                         0.58 msa [million standard axles]\n",
      "\n"
     ]
    }
   ],
   "source": [
    "class TrafficAssessment:\n",
    "    def __init__(self, commercial_vehicle_flow_F, design_period_Y, maintenance=0):\n",
    "        self.commercial_vehicle_flow_F = commercial_vehicle_flow_F\n",
    "        self.design_period_Y = design_period_Y\n",
    "        \n",
    "        self.growth_factor_data = {5: 1.04, 10: 1.1, 15: 1.16, 20: 1.23, 25: 1.3, 30: 1.37, 35: 1.46, 40: 1.54}\n",
    "        self.growth_factor_G = self.growth_factor_data[design_period_Y]\n",
    "        \n",
    "        self.wear_factor_data = {0: 4.9, 1: 3.2}\n",
    "        self.maintenance = maintenance\n",
    "        self.wear_factor_W = self.wear_factor_data[self.maintenance]\n",
    "        \n",
    "        if self.commercial_vehicle_flow_F <= 5000:\n",
    "            self.percentage_vehicles_in_heaviest_lane_P = 100 - (0.0036 * self.commercial_vehicle_flow_F)\n",
    "        elif 5000 < self.commercial_vehicle_flow_F <= 25000:\n",
    "            self.percentage_vehicles_in_heaviest_lane_P = 89 - (0.0014 * self.commercial_vehicle_flow_F)\n",
    "        else:\n",
    "            self.percentage_vehicles_in_heaviest_lane_P = 54\n",
    "            \n",
    "            \n",
    "    def calculate_traffic_load(self):\n",
    "        # Your calculation logic for traffic load assessment goes here\n",
    "        # You can use the attributes of the class to perform calculations\n",
    "        \n",
    "        # Example calculation (this is just an illustration and not accurate)\n",
    "        self.weighted_annual_traffic_T_c = 365 * self.commercial_vehicle_flow_F * self.growth_factor_G * self.wear_factor_W * (10 ** (-6))\n",
    "        self.traffic_load_T = self.weighted_annual_traffic_T_c * (self.design_period_Y * self.percentage_vehicles_in_heaviest_lane_P / 100)\n",
    "        \n",
    "        return self.traffic_load_T\n",
    "    \n",
    "    \n",
    "    def print_results(self):\n",
    "        print(\"TRAFFIC ASSESSMENT RESULTS\")\n",
    "        print(f\"{'-' * 110}\")\n",
    "        print()\n",
    "\n",
    "        print(f\"{'-' * 110}\")\n",
    "        print(\"Loads and Design Parameters\")\n",
    "        print(f\"{'-' * 110}\")\n",
    "        print(\"{:<80} {:>10}\".format(\"Commercial Vehicle Flow (F):\", f\"{self.commercial_vehicle_flow_F} vehicles/day\"))\n",
    "        print(\"{:<80} {:>10}\".format(\"Design Period (Y):\", f\"{self.design_period_Y} years\"))\n",
    "        print(\"{:<80} {:>10}\".format(\"Growth Factor (G):\", f\"{self.growth_factor_G:.2f}\"))\n",
    "        print(\"{:<80} {:>10}\".format(\"Wear Factor (W):\", f\"{self.wear_factor_W:.2f}\"))\n",
    "        print(\"{:<80} {:>10}\".format(\"Percentage of Vehicles in Heaviest Lane (P):\", f\"{self.percentage_vehicles_in_heaviest_lane_P:.2f}%\"))\n",
    "        print()\n",
    "\n",
    "        print(f\"{'-' * 110}\")\n",
    "        print(\"Results\")\n",
    "        print(f\"{'-' * 110}\")\n",
    "        print()\n",
    "\n",
    "        print(\"{:<80} {:>10}\".format(\"Weighted Annual Traffic (T_c):\", f\"{self.weighted_annual_traffic_T_c:.2f} msa [million standard axles]\"))\n",
    "        print(\"{:<80} {:>10}\".format(\"Design Traffic Load (T):\", f\"{self.traffic_load_T:.2f} msa [million standard axles]\"))\n",
    "        print()\n",
    "        \n",
    "        \n",
    "# Creating an instance of TrafficAssessment\n",
    "traffic_instance = TrafficAssessment(\n",
    "    commercial_vehicle_flow_F=10,\n",
    "    design_period_Y=25,\n",
    "    maintenance=0\n",
    ")\n",
    "\n",
    "# Calculating the traffic load using the instance\n",
    "traffic_instance.calculate_traffic_load()\n",
    "traffic_instance.print_results()\n",
    "\n"
   ]
  },
  {
   "cell_type": "code",
   "execution_count": null,
   "id": "315213f4",
   "metadata": {},
   "outputs": [],
   "source": [
    "class PavementFoundations:\n",
    "    def __init__(CBR, foundation_class):\n",
    "        self.CBR = CBR\n",
    "        self.subgrade_surface_modulus_E = 17.6 * (CBR ** 0.64)\n",
    "        \n",
    "        if self.subgrade_surface_modulus_E <= 50:\n",
    "            self.foundation_class = 1\n",
    "        elif 50 < self.subgrade_surface_modulus_E <= 100:\n",
    "            self.foundation_class = 2\n",
    "        elif 100 < self.subgrade_surface_modulus_E <= 200:\n",
    "            self.foundation_class = 3\n",
    "        else:\n",
    "            self.foundation_class = 4\n"
   ]
  },
  {
   "cell_type": "code",
   "execution_count": null,
   "id": "2a04af39",
   "metadata": {},
   "outputs": [],
   "source": [
    "class PavementDesign:\n",
    "    def __init__(design_traffic_load_T, foundation_class):\n",
    "        if design_traffic_load_T <= 20:\n",
    "            foundation_class = 1\n",
    "        \n",
    "        self.design_traffic_load_T = design_traffic_load_T \n",
    "        self.foundation_class = foundation_class"
   ]
  },
  {
   "cell_type": "code",
   "execution_count": 15,
   "id": "5b06feee",
   "metadata": {},
   "outputs": [
    {
     "name": "stdout",
     "output_type": "stream",
     "text": [
      "192.79820762615952\n"
     ]
    }
   ],
   "source": [
    "T = 55\n",
    "H = -16.05*(math.log(T) ** 2) + 101 * math.log(T) + 45.8\n",
    "print(H)"
   ]
  },
  {
   "cell_type": "code",
   "execution_count": null,
   "id": "e03b2883",
   "metadata": {},
   "outputs": [],
   "source": []
  }
 ],
 "metadata": {
  "kernelspec": {
   "display_name": "Python 3 (ipykernel)",
   "language": "python",
   "name": "python3"
  },
  "language_info": {
   "codemirror_mode": {
    "name": "ipython",
    "version": 3
   },
   "file_extension": ".py",
   "mimetype": "text/x-python",
   "name": "python",
   "nbconvert_exporter": "python",
   "pygments_lexer": "ipython3",
   "version": "3.12.1"
  }
 },
 "nbformat": 4,
 "nbformat_minor": 5
}
