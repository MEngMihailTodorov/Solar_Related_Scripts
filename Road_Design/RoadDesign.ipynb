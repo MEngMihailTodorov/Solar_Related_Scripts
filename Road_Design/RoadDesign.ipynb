{
 "cells": [
  {
   "cell_type": "code",
   "execution_count": 2,
   "id": "4464a825-255e-4080-bbc6-17636e431e20",
   "metadata": {},
   "outputs": [
    {
     "ename": "SyntaxError",
     "evalue": "invalid syntax (567809418.py, line 18)",
     "output_type": "error",
     "traceback": [
      "\u001b[1;36m  Cell \u001b[1;32mIn[2], line 18\u001b[1;36m\u001b[0m\n\u001b[1;33m    self.normalized_deviation_coeff_t_n =\u001b[0m\n\u001b[1;37m                                          ^\u001b[0m\n\u001b[1;31mSyntaxError\u001b[0m\u001b[1;31m:\u001b[0m invalid syntax\n"
     ]
    }
   ],
   "source": [
    "class SoilSurfaceMoisture:\n",
    "    \n",
    "#---------------------------------------------------------------------------------------------------------------------------------------------------\n",
    "    \n",
    "    def __init__(self, soil_type, annual_average_daily_traffic_intensity_AADT,\n",
    "                 average_soil_moisture_content_W_tab, total_road_thickness_H_tot, ground_water_level_GW, freezing_depth_Z_freeze):\n",
    "        \n",
    "        self.soil_type = soil_type\n",
    "        self.annual_average_daily_traffic_intensity_AADT = annual_average_daily_traffic_intensity_AADT\n",
    "        \n",
    "        self.average_soil_moisture_content_W_tab = average_soil_moisture_content_W_tab\n",
    "        self.moisture_correction_W_2 = 0.01\n",
    "        \n",
    "        self.total_road_thickness_H_tot = total_road_thickness_H_tot\n",
    "        self.ground_water_level_GW = ground_water_level_GW\n",
    "        self.freezing_depth_Z_freeze = freezing_depth_Z_freeze\n",
    "        \n",
    "        self.normalized_deviation_coeff_t_n = \n",
    "        \n",
    "        self.determine_road_surface_moisture_regime()\n",
    "        \n",
    "        self.calculate_delta_r()\n",
    "        self.calculate_soil_surface_moisture_W_apr()\n",
    "\n",
    "#---------------------------------------------------------------------------------------------------------------------------------------------------\n",
    "    \n",
    "    def determine_road_surface_moisture_regime(self):\n",
    "        \n",
    "        self.capillary_fringe_boundary = self.ground_water_level_GW - self.soil_type.capillary_water_rise_height\n",
    "        \n",
    "        if self.capillary_fringe_boundary > self.freezing_depth_Z_freeze:\n",
    "            self.road_surface_moisture_regime = 1\n",
    "        elif self.capillary_fringe_boundary <= self.freezing_depth_Z_freeze and self.ground_water_level_GW > self.freezing_depth_Z_freeze:\n",
    "            self.road_surface_moisture_regime = 2\n",
    "        else:\n",
    "            self.road_surface_moisture_regime = 3\n",
    "\n",
    "#---------------------------------------------------------------------------------------------------------------------------------------------------\n",
    "\n",
    "    def calculate_soil_surface_moisture_W_apr(self):\n",
    "        self.soil_surfacce_moisture_W_apr = (self.average_soil_moisture_content_W_tab - self.moisture_correction_W_2)\n",
    "        - (1 + 0.1 * self.normalized_deviation_coeff_t_n) - self.delta_3\n",
    "\n",
    "#---------------------------------------------------------------------------------------------------------------------------------------------------\n",
    "\n",
    "    def calculate_delta_3(self):\n",
    "        if self.total_road_thickness_H_tot <= 0.7:\n",
    "            self.delta_3 = 0.00\n",
    "        else:\n",
    "            pass\n",
    "\n",
    "#---------------------------------------------------------------------------------------------------------------------------------------------------\n",
    "\n",
    "    "
   ]
  },
  {
   "cell_type": "code",
   "execution_count": null,
   "id": "ca8c9058-4761-4da7-9d05-16765487a1db",
   "metadata": {},
   "outputs": [],
   "source": [
    "class SoilType:\n",
    "\n",
    "#---------------------------------------------------------------------------------------------------------------------------------------------------\n",
    "    \n",
    "    def __init__(self, name, W_2, W_tab, capillary_water_rise_height):\n",
    "        self.name = name\n",
    "        self.W_2 = W_2\n",
    "        self.W_tab = W_tab\n",
    "        self.capillary_water_rise_height = capillary_water_rise_height\n",
    "        \n",
    "#---------------------------------------------------------------------------------------------------------------------------------------------------\n",
    "    \n",
    "    def get_some_new_value(self):\n",
    "        return self.W_2 * self.W_tab\n",
    "\n",
    "#---------------------------------------------------------------------------------------------------------------------------------------------------\n"
   ]
  },
  {
   "cell_type": "code",
   "execution_count": 34,
   "id": "dc6a5109-0e42-43f1-b9e7-c149467fe09b",
   "metadata": {},
   "outputs": [],
   "source": [
    "soil_layer_1 = SoilType('light_clay_sand', 2, 3, 0.3)"
   ]
  },
  {
   "cell_type": "code",
   "execution_count": 41,
   "id": "5e00447f-1db0-4f8c-bb54-94ba05d134f4",
   "metadata": {},
   "outputs": [],
   "source": [
    "soil = SoilSurfaceMoisture(soil_layer_1, 1, 0.4, 1.4, 1.5)"
   ]
  },
  {
   "cell_type": "code",
   "execution_count": 42,
   "id": "12085f9d-bcc8-4109-b573-cdb1bc64f072",
   "metadata": {},
   "outputs": [
    {
     "data": {
      "text/plain": [
       "3"
      ]
     },
     "execution_count": 42,
     "metadata": {},
     "output_type": "execute_result"
    }
   ],
   "source": [
    "soil.road_surface_moisture_regime"
   ]
  },
  {
   "cell_type": "code",
   "execution_count": 4,
   "id": "9d677a18-5957-4283-b85e-435f3312823b",
   "metadata": {},
   "outputs": [
    {
     "name": "stdout",
     "output_type": "stream",
     "text": [
      "-120.00000000000009\n"
     ]
    }
   ],
   "source": []
  },
  {
   "cell_type": "code",
   "execution_count": null,
   "id": "f50e68c1-e5ef-43be-b034-7a1037d5de56",
   "metadata": {},
   "outputs": [],
   "source": []
  },
  {
   "cell_type": "code",
   "execution_count": null,
   "id": "d8bb6ce0-e483-4d35-ada3-9a25b23eba47",
   "metadata": {},
   "outputs": [],
   "source": []
  }
 ],
 "metadata": {
  "kernelspec": {
   "display_name": "Python 3 (ipykernel)",
   "language": "python",
   "name": "python3"
  },
  "language_info": {
   "codemirror_mode": {
    "name": "ipython",
    "version": 3
   },
   "file_extension": ".py",
   "mimetype": "text/x-python",
   "name": "python",
   "nbconvert_exporter": "python",
   "pygments_lexer": "ipython3",
   "version": "3.12.1"
  }
 },
 "nbformat": 4,
 "nbformat_minor": 5
}
