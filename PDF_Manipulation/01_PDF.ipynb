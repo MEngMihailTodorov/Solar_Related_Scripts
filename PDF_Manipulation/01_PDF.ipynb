{
 "cells": [
  {
   "cell_type": "code",
   "execution_count": 2,
   "id": "15ceb1fa-822d-407f-8f54-406b9cc32e16",
   "metadata": {},
   "outputs": [
    {
     "name": "stderr",
     "output_type": "stream",
     "text": [
      "C:\\Users\\PC\\AppData\\Local\\Programs\\Python\\Python312\\Lib\\site-packages\\fpdf\\__init__.py:39: UserWarning: You have both PyFPDF & fpdf2 installed. Both packages cannot be installed at the same time as they share the same module namespace. To only keep fpdf2, run: pip uninstall --yes pypdf && pip install --upgrade fpdf2\n",
      "  warnings.warn(\n"
     ]
    }
   ],
   "source": [
    "import fpdf"
   ]
  },
  {
   "cell_type": "code",
   "execution_count": 3,
   "id": "5452244c-51b9-44c0-b80c-ab6ed6267743",
   "metadata": {},
   "outputs": [],
   "source": [
    "# Layout (\"P\", \"L\")\n",
    "# Unit (\"mm\", \"cm\", \"in\")\n",
    "# format (\"A3\", \"A4\" (default), \"A5\", \"Letter\", \"Legal\", (100, 150))\n",
    "\n",
    "\n",
    "title = \"Some Random Title\"\n",
    "\n",
    "class PDF(fpdf.FPDF):\n",
    "    def header(self):\n",
    "        # self.image()\n",
    "        pdf.set_font(\"helvetica\", \"BUI\", 16)\n",
    "        \n",
    "        self.ln(10)\n",
    "        self.title_w = self.get_string_width(title) + 6\n",
    "        self.set_x((self.w - self.title_w) / 2)\n",
    "\n",
    "        self.cell(self.title_w, 10, title, border = False, align = \"C\", fill = 0)\n",
    "        self.ln(30)\n",
    "\n",
    "    \n",
    "    def footer(self):\n",
    "        self.set_y(-15)\n",
    "        \n",
    "        self.set_font(\"helvetica\", \"I\", 10)\n",
    "\n",
    "        self.set_text_color(0, 0, 0)\n",
    "        \n",
    "        self.cell(0, 10, f\"Page {self.page_no()}/{{nb}}\", align = \"C\")\n",
    "\n",
    "    def chapter_title(self, name):\n",
    "        pass\n",
    "        \n",
    "    def chapter_body(self, name):\n",
    "        \n",
    "        with open(name, \"rb\") as fh:\n",
    "            txt = fh.read().decode(\"latin-1\")\n",
    "            \n",
    "        self.set_font(\"helvetica\", \"\", 12)\n",
    "        \n",
    "        self.multi_cell(0, 5, txt)\n",
    "        \n",
    "        self.ln(10)\n",
    "\n",
    "        self.cell(15, 10, \"END OF CHAPTER\")\n",
    "        self.ln(20)\n",
    "        \n",
    "\n",
    "pdf = PDF(\"P\",\"mm\", format = \"A4\")\n",
    "\n",
    "pdf.alias_nb_pages()\n",
    "\n",
    "pdf.set_auto_page_break(auto=1, margin = 15)\n",
    "\n",
    "pdf.add_page()\n",
    "\n",
    "pdf.chapter_body(\"Chpt_1.txt\")\n",
    "pdf.chapter_body(\"Chpt_2.txt\")\n",
    "\n",
    "pdf.output(\"pdf_4.pdf\")\n"
   ]
  },
  {
   "cell_type": "code",
   "execution_count": 23,
   "id": "b9149fcb-568a-4bde-88f6-e8e8e6874c92",
   "metadata": {},
   "outputs": [],
   "source": [
    "from PyPDF2 import PdfReader, PdfWriter\n",
    "import os\n",
    "\n",
    "def insert_pdf(base_pdf_path, insert_pdf_path, output_pdf_path, position=None):\n",
    "    # Create a PdfReader object for the base PDF\n",
    "    base_pdf = PdfReader(base_pdf_path)\n",
    "    # Create a PdfReader object for the PDF to insert\n",
    "    insert_pdf = PdfReader(insert_pdf_path)\n",
    "    # Create a PdfWriter object to hold the merged output\n",
    "    pdf_writer = PdfWriter()\n",
    "\n",
    "    # Add pages from the base PDF to the writer\n",
    "    num_base_pages = len(base_pdf.pages)\n",
    "    for page_num in range(num_base_pages):\n",
    "        pdf_writer.add_page(base_pdf.pages[page_num])\n",
    "        if position is not None and page_num == position - 1:\n",
    "            # Insert pages from the insert PDF at the specified position\n",
    "            for insert_page_num in range(len(insert_pdf.pages)):\n",
    "                pdf_writer.add_page(insert_pdf.pages[insert_page_num])\n",
    "\n",
    "    if position is None:\n",
    "        # If no position is specified, add insert PDF at the end\n",
    "        for insert_page_num in range(len(insert_pdf.pages)):\n",
    "            pdf_writer.add_page(insert_pdf.pages[insert_page_num])\n",
    "\n",
    "    # Write the merged PDF to the output file\n",
    "    with open(output_pdf_path, \"wb\") as output_file:\n",
    "        pdf_writer.write(output_file)\n",
    "\n",
    "\n",
    "# Example usage\n",
    "local_path = os.getcwd()\n",
    "\n",
    "base_pdf_path = f\"{local_path}\\\\MVPS.pdf\"  # Path to the base PDF\n",
    "insert_pdf_path = f\"{local_path}\\\\Pad footing analysis & design (BS8110)_Inverter_Strip_2.pdf\"  # Path to the PDF to be inserted\n",
    "output_pdf_path = f\"{local_path}\\\\MVPS.pdf\"  # Path to the output PDF\n",
    "insert_position = None  # Page position to insert the PDF, None to insert at the end\n",
    "\n",
    "insert_pdf(base_pdf_path, insert_pdf_path, output_pdf_path, insert_position)"
   ]
  },
  {
   "cell_type": "code",
   "execution_count": 21,
   "id": "1cdfc6fc-cee7-408c-bf33-d009d99e46b2",
   "metadata": {},
   "outputs": [
    {
     "data": {
      "text/plain": [
       "'C:\\\\Users\\\\PC\\\\JUPYTER\\\\CONCEPTUAL_DESIGN_5\\\\PDF_Manipulation'"
      ]
     },
     "execution_count": 21,
     "metadata": {},
     "output_type": "execute_result"
    }
   ],
   "source": [
    "local_path"
   ]
  },
  {
   "cell_type": "code",
   "execution_count": null,
   "id": "39950c56-0ba4-4af8-917b-603b4b176d73",
   "metadata": {},
   "outputs": [],
   "source": []
  }
 ],
 "metadata": {
  "kernelspec": {
   "display_name": "Python 3 (ipykernel)",
   "language": "python",
   "name": "python3"
  },
  "language_info": {
   "codemirror_mode": {
    "name": "ipython",
    "version": 3
   },
   "file_extension": ".py",
   "mimetype": "text/x-python",
   "name": "python",
   "nbconvert_exporter": "python",
   "pygments_lexer": "ipython3",
   "version": "3.12.1"
  }
 },
 "nbformat": 4,
 "nbformat_minor": 5
}
