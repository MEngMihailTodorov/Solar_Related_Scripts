{
 "cells": [
  {
   "cell_type": "code",
   "execution_count": 17,
   "id": "13bc64af-7d83-4966-a342-203ffd780ae7",
   "metadata": {},
   "outputs": [],
   "source": [
    "from ElectricitySellingPriceOverWeek import ElectricitySellingPriceOverWeek\n",
    "\n",
    "import math\n",
    "import numpy as np\n",
    "import pandas as pd\n",
    "import matplotlib.pyplot as plt\n",
    "import scipy as scipy\n",
    "import seaborn as sns\n",
    "import sys\n",
    "import os\n",
    "\n",
    "from matplotlib import animation\n",
    "from matplotlib.animation import PillowWriter\n",
    "\n",
    "from scipy.optimize import minimize, curve_fit\n",
    "from scipy.interpolate import interp1d\n",
    "from scipy.special import legendre, jv # Legendre Shrodinger polynomial and Laplace Bessel function\n",
    "\n",
    "from matplotlib.font_manager import FontProperties\n",
    "from numpy.polynomial.polynomial import Polynomial\n",
    "\n",
    "import scienceplots\n",
    "\n",
    "plt.style.use([\"science\", \"notebook\", \"grid\"])\n",
    "\n",
    "from scipy.stats import norm"
   ]
  },
  {
   "cell_type": "code",
   "execution_count": 9,
   "id": "61e1babe-7f7c-4f10-b4d0-a23c26538285",
   "metadata": {},
   "outputs": [],
   "source": [
    "class PVModuleProduction:\n",
    "    def __init__(self, installation_capacity_Kw, CAPEX_per_Kw, OPEX_per_Kw, ):\n",
    "        self.installation_capacity_Kw = installation_capacity_Kw"
   ]
  },
  {
   "cell_type": "code",
   "execution_count": null,
   "id": "6ac351ae-7bd2-4d5e-90c7-cebde54ac5e5",
   "metadata": {},
   "outputs": [],
   "source": []
  },
  {
   "cell_type": "code",
   "execution_count": null,
   "id": "fed835cf-47ba-4335-98e4-ba34e02f78f3",
   "metadata": {},
   "outputs": [],
   "source": []
  }
 ],
 "metadata": {
  "kernelspec": {
   "display_name": "Python 3 (ipykernel)",
   "language": "python",
   "name": "python3"
  },
  "language_info": {
   "codemirror_mode": {
    "name": "ipython",
    "version": 3
   },
   "file_extension": ".py",
   "mimetype": "text/x-python",
   "name": "python",
   "nbconvert_exporter": "python",
   "pygments_lexer": "ipython3",
   "version": "3.12.1"
  }
 },
 "nbformat": 4,
 "nbformat_minor": 5
}
