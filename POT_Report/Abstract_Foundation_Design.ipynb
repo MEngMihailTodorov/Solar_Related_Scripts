{
 "cells": [
  {
   "cell_type": "code",
   "execution_count": 6,
   "id": "824e4235",
   "metadata": {},
   "outputs": [
    {
     "name": "stdout",
     "output_type": "stream",
     "text": [
      "Overwriting Abstract_Foundation_Design.py\n"
     ]
    }
   ],
   "source": [
    "%%writefile Abstract_Foundation_Design.py\n",
    "\n",
    "import math\n",
    "from abc import ABC, abstractmethod\n",
    "\n",
    "\n",
    "class Foundation(ABC):\n",
    "    def __init__(self):\n",
    "        pass\n",
    "\n",
    "    @abstractmethod\n",
    "    def calculate_design_values(self):\n",
    "        pass\n",
    "\n",
    "    @abstractmethod\n",
    "    def print_results(self):\n",
    "        pass"
   ]
  },
  {
   "cell_type": "code",
   "execution_count": 3,
   "id": "d29c2db4",
   "metadata": {},
   "outputs": [
    {
     "name": "stderr",
     "output_type": "stream",
     "text": [
      "UsageError: %%writefile is a cell magic, but the cell body is empty.\n"
     ]
    }
   ],
   "source": []
  },
  {
   "cell_type": "code",
   "execution_count": null,
   "id": "924bc607",
   "metadata": {},
   "outputs": [],
   "source": []
  }
 ],
 "metadata": {
  "kernelspec": {
   "display_name": "Python 3 (ipykernel)",
   "language": "python",
   "name": "python3"
  },
  "language_info": {
   "codemirror_mode": {
    "name": "ipython",
    "version": 3
   },
   "file_extension": ".py",
   "mimetype": "text/x-python",
   "name": "python",
   "nbconvert_exporter": "python",
   "pygments_lexer": "ipython3",
   "version": "3.12.1"
  }
 },
 "nbformat": 4,
 "nbformat_minor": 5
}
