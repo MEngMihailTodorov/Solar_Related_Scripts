{
 "cells": [
  {
   "cell_type": "code",
   "execution_count": 1,
   "id": "449105f8-1ce9-4d0f-ae8d-79005c32f25d",
   "metadata": {},
   "outputs": [],
   "source": [
    "memo = {}\n",
    "\n",
    "def fib(n):\n",
    "    if n in memo:\n",
    "        return memo[n]\n",
    "        \n",
    "    if n <= 2:\n",
    "        result = 1\n",
    "    else:\n",
    "        result = fib(n-1) + fib(n-2)\n",
    "\n",
    "    memo[n] = result\n",
    "    return result"
   ]
  },
  {
   "cell_type": "code",
   "execution_count": 2,
   "id": "3de7853c-cbb1-4a99-8ab0-2d2c2ad965e6",
   "metadata": {},
   "outputs": [
    {
     "name": "stdout",
     "output_type": "stream",
     "text": [
      "12586269025\n"
     ]
    }
   ],
   "source": [
    "print(fib(50))"
   ]
  },
  {
   "cell_type": "code",
   "execution_count": 5,
   "id": "8d42823c-1cdd-4a77-b3a4-12e5166b5c17",
   "metadata": {},
   "outputs": [],
   "source": [
    "memo = {}\n",
    "\n",
    "\n",
    "def min_ignore_none(a, b):\n",
    "    if a is None:\n",
    "        return b\n",
    "    if b is None:\n",
    "        return a\n",
    "\n",
    "    return min(a, b)\n",
    "    \n",
    "\n",
    "def minimum_coins(m, coins):\n",
    "\n",
    "    if m in memo:\n",
    "        return memo[m]\n",
    "        \n",
    "    if m == 0:\n",
    "        answer = 0\n",
    "    else:\n",
    "        answer = None\n",
    "        \n",
    "        for coin in coins:\n",
    "            if m - coin >= 0:\n",
    "                answer = min_ignore_none(minimum_coins((m - coin), coins) + 1, answer)\n",
    "            else:\n",
    "                pass\n",
    "\n",
    "    \n",
    "    memo[m] = answer\n",
    "    return answer"
   ]
  },
  {
   "cell_type": "code",
   "execution_count": 6,
   "id": "8886dd54-9e10-44fa-8e55-caab5e77cd74",
   "metadata": {},
   "outputs": [
    {
     "name": "stdout",
     "output_type": "stream",
     "text": [
      "30\n"
     ]
    }
   ],
   "source": [
    "print(minimum_coins(150, [1, 4, 5]))"
   ]
  },
  {
   "cell_type": "code",
   "execution_count": 7,
   "id": "b3ad3d93-65f7-4316-9d55-23b49883b843",
   "metadata": {},
   "outputs": [],
   "source": [
    "def min_ignore_none(a, b):\n",
    "    if a is None:\n",
    "        return b\n",
    "    if b is None:\n",
    "        return a\n",
    "\n",
    "    return min(a, b)\n",
    "    \n",
    "\n",
    "def minimum_coins(m, coins):\n",
    "    memo = {}\n",
    "    memo[0] = 0\n",
    "\n",
    "    for i in range(1, m + 1):\n",
    "        for coin in coins:\n",
    "            subproblem = i - coin\n",
    "            if subproblem < 0:\n",
    "                continue\n",
    "\n",
    "            memo[i] = min_ignore_none(memo.get(i), memo.get(subproblem) + 1)\n",
    "\n",
    "\n",
    "    return memo[m]"
   ]
  },
  {
   "cell_type": "code",
   "execution_count": 8,
   "id": "6850526c-feb4-4179-acd2-75bb03c99aed",
   "metadata": {},
   "outputs": [
    {
     "name": "stdout",
     "output_type": "stream",
     "text": [
      "30\n"
     ]
    }
   ],
   "source": [
    "print(minimum_coins(150, [1, 4, 5]))"
   ]
  },
  {
   "cell_type": "code",
   "execution_count": null,
   "id": "a29cdca0-b9eb-4466-b325-ea1f9631c55e",
   "metadata": {},
   "outputs": [],
   "source": [
    "def min_ignore_none(a, b):\n",
    "    if a is None:\n",
    "        return b\n",
    "    if b is None:\n",
    "        return a\n",
    "\n",
    "    return min(a, b)\n",
    "\n",
    "\n",
    "def number_ways_to_choose_coins(m, coins):\n",
    "    "
   ]
  },
  {
   "cell_type": "code",
   "execution_count": null,
   "id": "0f77cfa9-4984-48e2-8317-aa41c11bb9cf",
   "metadata": {},
   "outputs": [],
   "source": [
    "print(number_ways_to_choose_coins(150, [1, 4, 5]))"
   ]
  }
 ],
 "metadata": {
  "kernelspec": {
   "display_name": "Python 3 (ipykernel)",
   "language": "python",
   "name": "python3"
  },
  "language_info": {
   "codemirror_mode": {
    "name": "ipython",
    "version": 3
   },
   "file_extension": ".py",
   "mimetype": "text/x-python",
   "name": "python",
   "nbconvert_exporter": "python",
   "pygments_lexer": "ipython3",
   "version": "3.12.1"
  }
 },
 "nbformat": 4,
 "nbformat_minor": 5
}
